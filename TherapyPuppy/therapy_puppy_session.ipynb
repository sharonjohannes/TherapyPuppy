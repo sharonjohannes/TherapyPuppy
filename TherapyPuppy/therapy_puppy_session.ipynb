{
 "cells": [
  {
   "cell_type": "markdown",
   "metadata": {},
   "source": [
    "# Project Description"
   ]
  },
  {
   "cell_type": "markdown",
   "metadata": {},
   "source": [
    "Write a brief description of your project here. \n",
    "\n",
    "Note that projects should be self-sufficient, so make sure to provide enough information and context here for someone to understand what you are doing in your project, and why. "
   ]
  },
  {
   "cell_type": "code",
   "execution_count": 6,
   "metadata": {},
   "outputs": [],
   "source": [
    "# For my project, I decided to create a virtual therapy puppy session.\n",
    "# Why? -- I think that this is something useful for students (or really,\n",
    "# anybody) looking for a quick mental health check. The reason why I\n",
    "# chose to do this in particular is because right now, life is pretty\n",
    "# hectic for students (and the whole world), documenting this in June\n",
    "# 2020. My program will hopefully help those out who are in distress,\n",
    "# boredom, etc., or to anyone who just needs a smile on their face from\n",
    "# seeing a virtual dog on their screeen at such a crazy time\n",
    "# the world is going through.\n",
    "\n",
    "# Through 3 simple questions, the virtual puppy gives feedback based\n",
    "# on how you are feeling through statements of encouragement,\n",
    "# suggestions on things to do, a relevant quote and general \n",
    "# words of wisdom. \n",
    "\n",
    "# To go about creating an interactive setting, I created a main\n",
    "# function which utilized the input function and had my virtual\n",
    "# puppy ask the user questions through it. For each question, I\n",
    "# created a function that contained each possible user input,\n",
    "# and the corresponding statements that the puppy would provide in\n",
    "# response to how they user claims they are currently feeling."
   ]
  },
  {
   "cell_type": "markdown",
   "metadata": {},
   "source": [
    "## Project Code\n",
    "\n",
    "If it makes sense for your project, you can have code and outputs here in the notebook as well."
   ]
  },
  {
   "cell_type": "code",
   "execution_count": 1,
   "metadata": {
    "scrolled": true
   },
   "outputs": [],
   "source": [
    "from my_module.functions import (\n",
    "    therapy_puppy_session,\n",
    "    introduction,\n",
    "    goodbye,\n",
    "    mental_state,\n",
    "    destress_level,\n",
    "    overall_feeling\n",
    ")"
   ]
  },
  {
   "cell_type": "code",
   "execution_count": 2,
   "metadata": {},
   "outputs": [
    {
     "name": "stdout",
     "output_type": "stream",
     "text": [
      "\n",
      "           __\n",
      "        o-''|\\_____/)\n",
      "         \\_/|_)     )\n",
      "            \\  __  /\n",
      "            (_/ (_/    \n",
      "        \n",
      "    Hello there! Having a ruff day? That's what pups are here for! My\n",
      "    name is Wizard Puppy, and I am you therapy dog for today. I'm not\n",
      "    a Wizard, my hoomans just named me that. Anyways, I am here\n",
      "    today to evaluate your mental health and see what exactly might\n",
      "    help you feel better!\n",
      "        \n",
      " \n",
      " For starters... on a scale from 1-10, how are you feeling mentally at the moment? (1 = bad, 10 = good!) : 1\n",
      " \n",
      " *** Uh oh... maybe not too well. Seems like you are at or near rock-bottom. But have no fear, pup is here! Keep talking to Wizard Puppy for more words of wisdom. *** \n",
      "\n",
      "Hmm... how about a suggestion? On a scale from 1-10, how badly do you need to destress? (1 being VERY much needed, 10 being you are already relaxed): 1\n",
      " \n",
      " *** Have some ice cream! My physics teacher told me that ice cream cures sadness. *** \n",
      " \n",
      "Out of these 10 moods, which do you feel most closely right now? The options are happy, sad, frustrated, bored, overwhelmed, hopeful, excited, relaxed, hungry, silly: hungry\n",
      " \n",
      " *** I see that you're hungry. I am always hungry, but my hooman only feeds me three times a day. How prepawsterous! I hope you realize you are lucky to have such long legs and arms to walk to the fridge and grab yourself some food! Might I recommend pup-eroni pizza...?  *** \n",
      " \n",
      "\n",
      "           __\n",
      "        o-''|\\_____/)\n",
      "         \\_/|_)     )\n",
      "            \\  __  /\n",
      "            (_/ (_/    \n",
      "    Thanks for chatting! Goodbye from Wizard Puppy! Hope all your\n",
      "    dreams and wishes come true! I personally am hoping for more\n",
      "    dog treats. :3\n",
      "    \n"
     ]
    }
   ],
   "source": [
    "therapy_puppy_session()"
   ]
  },
  {
   "cell_type": "markdown",
   "metadata": {},
   "source": [
    "#### Extra Credit (*optional*)\n",
    "\n",
    "Replace all of this text with a brief explanation (~3 sentences) of: \n",
    "1. Your Python Background\n",
    "2. How your project went above and beyond the requirements of the project and/or how you challenged yourself to learn something new with the final project"
   ]
  },
  {
   "cell_type": "code",
   "execution_count": null,
   "metadata": {},
   "outputs": [],
   "source": [
    "# Coming into this class, I had 0 experience with Python; in the fall,\n",
    "# I had taken a class coding in C -- however, I learned that coding was\n",
    "# not a godgiven skill of mine (I failed the class). \n",
    "\n",
    "# Before even knowing what I wanted to do for my project, I knew that\n",
    "# I wanted to include some kind of graphic design, and I learned how\n",
    "# to incorporate ASCII art in my code to visualize my therapy dog.\n",
    "# Another new concept I learned was working with user input,\n",
    "# specifically the input function, and learning something interesting\n",
    "# to me that this function automatically converts your input value\n",
    "# to a string. User input will definitely be useful for me as I plan\n",
    "# to create more projects that are interactive and thus it\n",
    "# will come in handy."
   ]
  }
 ],
 "metadata": {
  "kernelspec": {
   "display_name": "Python 3",
   "language": "python",
   "name": "python3"
  },
  "language_info": {
   "codemirror_mode": {
    "name": "ipython",
    "version": 3
   },
   "file_extension": ".py",
   "mimetype": "text/x-python",
   "name": "python",
   "nbconvert_exporter": "python",
   "pygments_lexer": "ipython3",
   "version": "3.7.6"
  }
 },
 "nbformat": 4,
 "nbformat_minor": 2
}
